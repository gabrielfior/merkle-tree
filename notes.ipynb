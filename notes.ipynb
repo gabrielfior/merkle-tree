{
 "cells": [
  {
   "cell_type": "code",
   "execution_count": 1,
   "id": "80453a07-acff-4692-879b-8f1470159032",
   "metadata": {},
   "outputs": [],
   "source": [
    "from typing import List, Tuple\n",
    "import math\n",
    "from enum import Enum"
   ]
  },
  {
   "cell_type": "code",
   "execution_count": 2,
   "id": "e39e7089-6349-4a34-99de-8bb1ecbc2c09",
   "metadata": {},
   "outputs": [],
   "source": [
    "def is_power_of_2(number):\n",
    "    return math.log2(number).is_integer()\n",
    "\n",
    "class Side(Enum):\n",
    "    LEFT=0,\n",
    "    RIGHT=1,\n",
    "\n",
    "class MerkleTree:\n",
    "    def __init__(self, values:List[str]):\n",
    "        self.raw_leafs = values\n",
    "        self.leafs = [self.calculate_hash(i) for i in self.raw_leafs]\n",
    "        self.build_tree()\n",
    "\n",
    "    def __repr__(self):\n",
    "        return str(self.raw_leafs)\n",
    "\n",
    "    def calculate_hash(self,a:str,b:str='') -> str:\n",
    "        return a+b\n",
    "\n",
    "    def build_tree(self):\n",
    "        while not is_power_of_2(len(self.leafs)):\n",
    "            # add \"\" until it becomes a full tree\n",
    "            self.leafs.append(\"\")\n",
    "\n",
    "        self.tree = self.leafs[::] # deep copy\n",
    "        nodes_to_process = self.tree[::]\n",
    "        while len(nodes_to_process) > 1:\n",
    "            #print ('nodes_to_process',nodes_to_process)\n",
    "            left = nodes_to_process.pop(0)\n",
    "            right = nodes_to_process.pop(0)\n",
    "            new_hash = self.calculate_hash(left,right)\n",
    "            self.tree.append(new_hash)\n",
    "            nodes_to_process.append(new_hash)\n",
    "\n",
    "    def get_proof(self, index):\n",
    "        root_index = self.get_root_index()\n",
    "        exit(1)\n",
    "        target = index\n",
    "        proof = []\n",
    "        while target != root_index:\n",
    "            symmetric = self.get_symmetric(target)\n",
    "            side = Side.LEFT if symmetric < target else Side.RIGHT\n",
    "            target = self.get_parent_index(target)\n",
    "            # move to parent\n",
    "            proof.append((symmetric,side))\n",
    "            \n",
    "            #print ('moving to target ', target)\n",
    "        return proof\n",
    "\n",
    "    def get_root_index(self):\n",
    "        n = len(self.leafs)\n",
    "        num_elements = 0\n",
    "        n_levels = int(math.log2(n) + 1)\n",
    "        for i in range(n_levels):\n",
    "            new_elements = (n // 2**(i))\n",
    "            #print ('new ', new_elements)\n",
    "            num_elements += new_elements\n",
    "        return num_elements - 1 #0-based indexing\n",
    "        \n",
    "    def verify(self, index: int, proof:List[Tuple[int, Side]]) -> bool:\n",
    "        hash_to_verify = self.tree[index]\n",
    "        while proof:\n",
    "            (next_index, side) = proof.pop(0)\n",
    "            print ('applying ', (self.tree[next_index],side))\n",
    "            if side == Side.RIGHT:\n",
    "                hash_to_verify = self.calculate_hash(hash_to_verify, self.tree[next_index])\n",
    "            else:\n",
    "                hash_to_verify = self.calculate_hash(self.tree[next_index], hash_to_verify)     \n",
    "            print ('final hash ', hash_to_verify)\n",
    "        return hash_to_verify == self.tree[-1]\n",
    "    \n",
    "    def get_symmetric(self, index):\n",
    "        # we get the other child of the parent\n",
    "        if index % 2 == 0:\n",
    "            return index + 1\n",
    "        return index - 1\n",
    "    \n",
    "    def get_parent_index(self, index):\n",
    "        if not self.tree:\n",
    "            self.build_tree()\n",
    "\n",
    "        # go to right node instead of left node\n",
    "        if index % 2 == 0:\n",
    "            index += 1\n",
    "\n",
    "        delta = len(self.leafs) - 1 - (index//2)\n",
    "        return index + delta\n",
    "        "
   ]
  },
  {
   "cell_type": "code",
   "execution_count": 3,
   "id": "e8f2efc9-4967-41a8-862c-77f66b78ff2f",
   "metadata": {},
   "outputs": [
    {
     "name": "stdout",
     "output_type": "stream",
     "text": [
      "['a', 'b', 'c', 'd', 'e', 'f', 'g', 'h', 'ab', 'cd', 'ef', 'gh', 'abcd', 'efgh', 'abcdefgh']\n",
      "['a', 'b', 'c', 'd', 'e', 'f', 'g', 'h']\n"
     ]
    }
   ],
   "source": [
    "#mt = MerkleTree(['a','b','c','d','e','f','g','h','i'])\n",
    "mt = MerkleTree(['a','b','c','d','e','f','g','h'])\n",
    "print(mt.tree)\n",
    "print(mt.leafs)"
   ]
  },
  {
   "cell_type": "code",
   "execution_count": 4,
   "id": "c18b44e6-c72b-40b0-b397-e704055a888e",
   "metadata": {},
   "outputs": [
    {
     "data": {
      "text/plain": [
       "14"
      ]
     },
     "execution_count": 4,
     "metadata": {},
     "output_type": "execute_result"
    }
   ],
   "source": [
    "mt.get_parent_index(12)"
   ]
  },
  {
   "cell_type": "code",
   "execution_count": 5,
   "id": "250553bc-ef37-4776-b8aa-33fef50478dc",
   "metadata": {},
   "outputs": [
    {
     "data": {
      "text/plain": [
       "14"
      ]
     },
     "execution_count": 5,
     "metadata": {},
     "output_type": "execute_result"
    }
   ],
   "source": [
    "mt.get_root_index()"
   ]
  },
  {
   "cell_type": "code",
   "execution_count": 6,
   "id": "303eb435-56ce-43a5-9241-4c30b573ace5",
   "metadata": {},
   "outputs": [
    {
     "data": {
      "text/plain": [
       "[(1, <Side.RIGHT: (1,)>), (9, <Side.RIGHT: (1,)>), (13, <Side.RIGHT: (1,)>)]"
      ]
     },
     "execution_count": 6,
     "metadata": {},
     "output_type": "execute_result"
    }
   ],
   "source": [
    "mt.get_proof(0)"
   ]
  },
  {
   "cell_type": "code",
   "execution_count": 8,
   "id": "dd875d7e-7c37-459c-915a-d3a258305630",
   "metadata": {},
   "outputs": [
    {
     "name": "stdout",
     "output_type": "stream",
     "text": [
      "proof  [(8, <Side.LEFT: (0,)>), (13, <Side.RIGHT: (1,)>)]\n",
      "applying  ('ab', <Side.LEFT: (0,)>)\n",
      "final hash  abcd\n",
      "applying  ('efgh', <Side.RIGHT: (1,)>)\n",
      "final hash  abcdefgh\n"
     ]
    },
    {
     "data": {
      "text/plain": [
       "True"
      ]
     },
     "execution_count": 8,
     "metadata": {},
     "output_type": "execute_result"
    }
   ],
   "source": [
    "index = 9\n",
    "proof = mt.get_proof(index)\n",
    "print ('proof ',proof)\n",
    "mt.verify(index, proof)"
   ]
  },
  {
   "cell_type": "code",
   "execution_count": null,
   "id": "fd8a776d-0b90-4549-a4be-5797d698d8cd",
   "metadata": {},
   "outputs": [],
   "source": []
  },
  {
   "cell_type": "code",
   "execution_count": null,
   "id": "11ead168-0bff-4137-83ef-7babd5081a65",
   "metadata": {},
   "outputs": [],
   "source": []
  }
 ],
 "metadata": {
  "kernelspec": {
   "display_name": "Python 3 (ipykernel)",
   "language": "python",
   "name": "python3"
  },
  "language_info": {
   "codemirror_mode": {
    "name": "ipython",
    "version": 3
   },
   "file_extension": ".py",
   "mimetype": "text/x-python",
   "name": "python",
   "nbconvert_exporter": "python",
   "pygments_lexer": "ipython3",
   "version": "3.9.17"
  }
 },
 "nbformat": 4,
 "nbformat_minor": 5
}
